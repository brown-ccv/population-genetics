{
 "cells": [
  {
   "cell_type": "markdown",
   "metadata": {},
   "source": [
    "First plot every pair of variables. This helps to familiarize myself with the data, it allows me to check how strongly correlated some variables are and what type of correlation is there."
   ]
  },
  {
   "cell_type": "code",
   "execution_count": 53,
   "metadata": {
    "collapsed": false
   },
   "outputs": [
    {
     "name": "stdout",
     "output_type": "stream",
     "text": [
      "read data files...\n",
      "done\n",
      "prepare the plots...\n",
      "done\n"
     ]
    }
   ],
   "source": [
    "import numpy as np\n",
    "import matplotlib.pyplot as plt\n",
    "from scipy.misc import imsave\n",
    "\n",
    "files = ['data-hl.txt','data-hs.txt','data-ne.txt','data-sl.txt','data-ss.txt']\n",
    "data = np.zeros([5*300,42])\n",
    "\n",
    "print 'read data files...'\n",
    "i = 0\n",
    "for file in files:\n",
    "    j = 0\n",
    "    for line in open(file,'r'):\n",
    "        if line.split('\\t')[0] != 'sclass':\n",
    "            values = np.array(line.split('\\t'))\n",
    "            values[values == 'NA'] = 'nan'\n",
    "            values[values == 'NA\\n'] = 'nan'\n",
    "            # save the class: points in data-hl.txt have class 0, data-hs.txt are in class 1, etc.\n",
    "            data[i*300+j,0] = i\n",
    "            data[i*300+j,1:] = values[1:].astype(float)\n",
    "            j = j + 1\n",
    "        else:\n",
    "            header = line.split('\\t')[1:]\n",
    "    i = i + 1 \n",
    "print 'done'    \n",
    "\n",
    "print 'prepare the plots...'\n",
    "\n",
    "# correlation coefficient matrix, masking out nans (didn't find a way to do this without for loops)\n",
    "corr_coef = np.zeros([41,41])\n",
    "for i in range(41):\n",
    "    for j in range(41):\n",
    "        a = data[:,i+1]\n",
    "        b = data[:,j+1]\n",
    "        mask_a = np.isfinite(a)\n",
    "        mask_b = np.isfinite(b)\n",
    "        mask = mask_a & mask_b\n",
    "        corr_coef[i,j] = np.corrcoef([a[mask],b[mask]])[0,1]\n",
    "\n",
    "plt.title('white - no corr., red - positive corr., blue - negative corr.')\n",
    "plt.imshow(corr_coef,cmap=\"bwr\",interpolation=\"nearest\")\n",
    "plt.savefig('corr_coef.png')\n",
    "plt.close()\n",
    "\n",
    "for i in range(41):\n",
    "    for j in range(i):\n",
    "        # i+1 and j+1 to skip the classes\n",
    "        plt.plot(data[:,i+1],data[:,j+1],'+')\n",
    "        plt.xlabel(header[i])\n",
    "        plt.ylabel(header[j])\n",
    "        plt.savefig('imgs/'+header[i]+'-'+header[j]+'.png')\n",
    "        plt.close()\n",
    "        \n",
    "print 'done'\n",
    "\n",
    "\n"
   ]
  },
  {
   "cell_type": "code",
   "execution_count": null,
   "metadata": {
    "collapsed": true
   },
   "outputs": [],
   "source": []
  }
 ],
 "metadata": {
  "kernelspec": {
   "display_name": "Python 2",
   "language": "python",
   "name": "python2"
  },
  "language_info": {
   "codemirror_mode": {
    "name": "ipython",
    "version": 2
   },
   "file_extension": ".py",
   "mimetype": "text/x-python",
   "name": "python",
   "nbconvert_exporter": "python",
   "pygments_lexer": "ipython2",
   "version": "2.7.10"
  }
 },
 "nbformat": 4,
 "nbformat_minor": 0
}
